{
 "cells": [
  {
   "cell_type": "code",
   "execution_count": 1,
   "metadata": {},
   "outputs": [],
   "source": [
    "%load_ext autoreload\n",
    "%autoreload 2"
   ]
  },
  {
   "cell_type": "markdown",
   "metadata": {
    "id": "abZ7bOgX3tVh"
   },
   "source": [
    "# Training multiple Learner with boosting\n",
    "\n",
    "**Author:** [kkahloots](https://www.linkedin.com/in/kkahloots/)<br>\n",
    "**Date created:** 2020/11/08<br>\n",
    "**Last modified:** 2020/11/08<br>\n",
    "**Description:** Performing learning as tasks by multiple learners."
   ]
  },
  {
   "cell_type": "markdown",
   "metadata": {
    "id": "JPe3NAfa3tVi"
   },
   "source": [
    "## Setup\n"
   ]
  },
  {
   "cell_type": "code",
   "execution_count": 2,
   "metadata": {
    "id": "Cy1Mc1Mf3tVi"
   },
   "outputs": [
    {
     "name": "stdout",
     "output_type": "stream",
     "text": [
      "2.3.1\n"
     ]
    }
   ],
   "source": [
    "import tensorflow as tf\n",
    "print(tf.__version__)"
   ]
  },
  {
   "cell_type": "markdown",
   "metadata": {
    "id": "FVGVWKY-3tVu"
   },
   "source": [
    "## Generate a `Dataset`\n"
   ]
  },
  {
   "cell_type": "code",
   "execution_count": 3,
   "metadata": {},
   "outputs": [],
   "source": [
    "image_size = (180, 180, 3)\n",
    "batch_size = 36\n",
    "validation_percentage=0.3\n",
    "valid_format = 'jpg'\n",
    "image_dir = \"data/PetImages/train\"\n",
    "holdout_dir = 'data/PetImages/holdout'"
   ]
  },
  {
   "cell_type": "code",
   "execution_count": 20,
   "metadata": {},
   "outputs": [],
   "source": [
    "from generators.from_images.file_image_generator import make_image_lists, get_generators"
   ]
  },
  {
   "cell_type": "code",
   "execution_count": 21,
   "metadata": {},
   "outputs": [
    {
     "name": "stderr",
     "output_type": "stream",
     "text": [
      "  \u001b[37mDEBUG   \u001b[0m | \u001b[37mLooking for images in 'Cat'\u001b[0m\n",
      "  \u001b[32mINFO    \u001b[0m | \u001b[32m10573 file found\u001b[0m\n",
      "  \u001b[37mDEBUG   \u001b[0m | \u001b[37mLooking for images in 'Dog'\u001b[0m\n",
      "  \u001b[32mINFO    \u001b[0m | \u001b[32m10506 file found\u001b[0m\n"
     ]
    },
    {
     "name": "stdout",
     "output_type": "stream",
     "text": [
      "\n",
      "\n",
      "\n",
      "\n"
     ]
    }
   ],
   "source": [
    "imgs_list = make_image_lists(\n",
    "    image_dir=image_dir, \n",
    "    validation_pct=validation_percentage, \n",
    "    valid_imgae_formats=valid_format\n",
    ")"
   ]
  },
  {
   "cell_type": "code",
   "execution_count": 22,
   "metadata": {},
   "outputs": [
    {
     "name": "stderr",
     "output_type": "stream",
     "text": [
      "  \u001b[37mDEBUG   \u001b[0m | \u001b[37mLooking for images in 'Cat'\u001b[0m\n",
      "  \u001b[32mINFO    \u001b[0m | \u001b[32m1175 file found\u001b[0m\n",
      "  \u001b[37mDEBUG   \u001b[0m | \u001b[37mLooking for images in 'Dog'\u001b[0m\n",
      "  \u001b[32mINFO    \u001b[0m | \u001b[32m1168 file found\u001b[0m\n"
     ]
    },
    {
     "name": "stdout",
     "output_type": "stream",
     "text": [
      "\n",
      "\n",
      "\n",
      "\n"
     ]
    }
   ],
   "source": [
    "holdout_list = make_image_lists(\n",
    "    image_dir=holdout_dir, \n",
    "    validation_pct=0.0, \n",
    "    valid_imgae_formats=valid_format\n",
    ")"
   ]
  },
  {
   "cell_type": "code",
   "execution_count": 23,
   "metadata": {},
   "outputs": [
    {
     "name": "stderr",
     "output_type": "stream",
     "text": [
      "  \u001b[32mINFO    \u001b[0m | \u001b[32mFound 21009 training files\u001b[0m\n",
      "  \u001b[32mINFO    \u001b[0m | \u001b[32mFound 70 validation files\u001b[0m\n",
      "  \u001b[32mINFO    \u001b[0m | \u001b[32mFound 2343 training files\u001b[0m\n"
     ]
    },
    {
     "name": "stdout",
     "output_type": "stream",
     "text": [
      "\n",
      "\n",
      "\n"
     ]
    }
   ],
   "source": [
    "train_generator, validation_generator, holdout_generator = \\\n",
    "                                    get_generators(\n",
    "                                                    images_list=imgs_list, \n",
    "                                                    image_dir=image_dir,\n",
    "                                                    holdout_dir=holdout_dir,\n",
    "                                                    holdout_list=holdout_list,\n",
    "                                                    image_size=image_size, \n",
    "                                                    batch_size=batch_size, \n",
    "                                                    class_mode='binary',\n",
    "                                                    rotation_range=40,\n",
    "                                                    width_shift_range=0.2,\n",
    "                                                    height_shift_range=0.2,\n",
    "                                                    shear_range=0.2,\n",
    "                                                    zoom_range=0.2,\n",
    "                                                    horizontal_flip=True,\n",
    "                                                    fill_mode='nearest',\n",
    "                                                    return_filename=True\n",
    "                                                                    )"
   ]
  },
  {
   "cell_type": "code",
   "execution_count": null,
   "metadata": {},
   "outputs": [],
   "source": [
    "    x=train_ds, \n",
    "    epochs=epochs, \n",
    "    steps_per_epoch=10,\n",
    "    callbacks=callbacks, \n",
    "    validation_data=val_ds, \n",
    "    validation_steps=10,\n",
    "    workers=-1,\n",
    "    use_multiprocessing=True,\n",
    "    verbose=1"
   ]
  },
  {
   "cell_type": "code",
   "execution_count": null,
   "metadata": {},
   "outputs": [],
   "source": []
  },
  {
   "cell_type": "code",
   "execution_count": null,
   "metadata": {},
   "outputs": [],
   "source": [
    "def boosted_training(X, \n",
    "                     epochs, \n",
    "                     steps_per_epoch, \n",
    "                     callbacks, \n",
    "                     validation_data,\n",
    "                     learning_rate=1\n",
    "                     n_estimators=50,\n",
    "                    ):\n",
    "    \"\"\"Build a boosted classifier/regressor from the training set (X, y).\n",
    "    Parameters\n",
    "    ----------\n",
    "    X : {array-like, sparse matrix} of shape (n_samples, n_features)\n",
    "        The training input samples. Sparse matrix can be CSC, CSR, COO,\n",
    "        DOK, or LIL. COO, DOK, and LIL are converted to CSR.\n",
    "\n",
    "    Returns\n",
    "    -------\n",
    "    self : object\n",
    "    \"\"\"\n",
    "    # Check parameters\n",
    "    if learning_rate <= 0:\n",
    "        raise ValueError(\"learning_rate must be greater than zero\")\n",
    "\n",
    "\n",
    "    #sample_weight = _check_sample_weight(sample_weight, X, np.float64)\n",
    "    #sample_weight /= sample_weight.sum()\n",
    "    #if np.any(sample_weight < 0):\n",
    "    #    raise ValueError(\"sample_weight cannot contain negative weights\")\n",
    "\n",
    "\n",
    "    # Clear any previous fit results\n",
    "    estimators_ = []\n",
    "    estimator_weights_ = np.zeros(n_estimators, dtype=np.float64)\n",
    "    estimator_errors_ = np.ones(n_estimators, dtype=np.float64)\n",
    "\n",
    "\n",
    "    for iboost in range(n_estimators):\n",
    "        # Boosting step\n",
    "        sample_weight, estimator_weight, estimator_error = _boost(\n",
    "                                                                    iboost,\n",
    "                                                                    X,\n",
    "                                                                    sample_weight,\n",
    "                                                                    random_state\n",
    "                                                                    )\n",
    "\n",
    "        # Early termination\n",
    "        if sample_weight is None:\n",
    "            break\n",
    "\n",
    "        estimator_weights_[iboost] = estimator_weight\n",
    "        estimator_errors_[iboost] = estimator_error\n",
    "\n",
    "        # Stop if error is zero\n",
    "        if estimator_error == 0:\n",
    "            break\n",
    "\n",
    "        sample_weight_sum = np.sum(sample_weight)\n",
    "\n",
    "        # Stop if the sum of sample weights has become non-positive\n",
    "        if sample_weight_sum <= 0:\n",
    "            break\n",
    "\n",
    "        if iboost < self.n_estimators - 1:\n",
    "            # Normalize\n",
    "            sample_weight /= sample_weight_sum\n",
    "\n",
    "    return self\n"
   ]
  },
  {
   "cell_type": "code",
   "execution_count": null,
   "metadata": {},
   "outputs": [],
   "source": []
  },
  {
   "cell_type": "code",
   "execution_count": null,
   "metadata": {},
   "outputs": [],
   "source": []
  },
  {
   "cell_type": "code",
   "execution_count": 293,
   "metadata": {},
   "outputs": [],
   "source": [
    "from builder.boosting import AdaBoostClassifier"
   ]
  },
  {
   "cell_type": "code",
   "execution_count": null,
   "metadata": {},
   "outputs": [],
   "source": [
    "cls = AdaBoostClassifier(base_estimator=, \n",
    "                         n_estimators=100, \n",
    "                         random_state=0)"
   ]
  },
  {
   "cell_type": "code",
   "execution_count": 294,
   "metadata": {},
   "outputs": [],
   "source": [
    "from learner_building import make_learner"
   ]
  },
  {
   "cell_type": "code",
   "execution_count": null,
   "metadata": {
    "pycharm": {
     "name": "#%%\n"
    }
   },
   "outputs": [],
   "source": [
    "make_learner(model_name='learner01', input_shape=image_size, num_classes=2)"
   ]
  },
  {
   "cell_type": "code",
   "execution_count": null,
   "metadata": {
    "pycharm": {
     "name": "#%%\n"
    }
   },
   "outputs": [],
   "source": []
  },
  {
   "cell_type": "code",
   "execution_count": null,
   "metadata": {
    "pycharm": {
     "name": "#%%\n"
    }
   },
   "outputs": [],
   "source": []
  },
  {
   "cell_type": "code",
   "execution_count": null,
   "metadata": {},
   "outputs": [],
   "source": [
    "\n",
    "def take2(gen):\n",
    "    while True:\n",
    "        batch = next(gen)\n",
    "        yield batch[0], batch[1]"
   ]
  },
  {
   "cell_type": "code",
   "execution_count": null,
   "metadata": {},
   "outputs": [],
   "source": []
  },
  {
   "cell_type": "code",
   "execution_count": null,
   "metadata": {},
   "outputs": [],
   "source": []
  },
  {
   "cell_type": "code",
   "execution_count": 47,
   "metadata": {},
   "outputs": [],
   "source": [
    "\n",
    "def take2(gen):\n",
    "    while True:\n",
    "        batch = next(gen)\n",
    "        yield batch[0], batch[1]"
   ]
  },
  {
   "cell_type": "code",
   "execution_count": 58,
   "metadata": {},
   "outputs": [],
   "source": [
    "train_ds = tf.data.Dataset.from_generator(\n",
    "    lambda: take2(train_generator), \n",
    "    output_types= (tf.float32, tf.float32)\n",
    ")\n",
    "\n",
    "val_ds = tf.data.Dataset.from_generator(\n",
    "    lambda: take2(validation_generator), \n",
    "    output_types= (tf.float32, tf.float32)\n",
    ")\n",
    "\n",
    "holdout_ds = tf.data.Dataset.from_generator(\n",
    "    lambda: take2(holdout_generator), \n",
    "    output_types= (tf.float32, tf.float32)\n",
    ")"
   ]
  },
  {
   "cell_type": "markdown",
   "metadata": {
    "id": "9eIZ3VWA3tV7"
   },
   "source": [
    "## Build a model\n"
   ]
  },
  {
   "cell_type": "code",
   "execution_count": 59,
   "metadata": {},
   "outputs": [],
   "source": [
    "from learner_building import make_learner"
   ]
  },
  {
   "cell_type": "code",
   "execution_count": 60,
   "metadata": {},
   "outputs": [
    {
     "name": "stdout",
     "output_type": "stream",
     "text": [
      "Model: \"learner01\"\n",
      "_________________________________________________________________\n",
      "Layer (type)                 Output Shape              Param #   \n",
      "=================================================================\n",
      "input_3 (InputLayer)         [(None, 180, 180, 3)]     0         \n",
      "_________________________________________________________________\n",
      "dense_10 (Dense)             (None, 180, 180, 100)     400       \n",
      "_________________________________________________________________\n",
      "dense_11 (Dense)             (None, 180, 180, 100)     10100     \n",
      "_________________________________________________________________\n",
      "dense_12 (Dense)             (None, 180, 180, 100)     10100     \n",
      "_________________________________________________________________\n",
      "dense_13 (Dense)             (None, 180, 180, 3)       303       \n",
      "_________________________________________________________________\n",
      "flatten_2 (Flatten)          (None, 97200)             0         \n",
      "_________________________________________________________________\n",
      "dense_14 (Dense)             (None, 1)                 97201     \n",
      "=================================================================\n",
      "Total params: 118,104\n",
      "Trainable params: 118,104\n",
      "Non-trainable params: 0\n",
      "_________________________________________________________________\n",
      "None\n"
     ]
    }
   ],
   "source": [
    "learner = make_learner(model_name='learner01', input_shape=image_size, num_classes=2)"
   ]
  },
  {
   "cell_type": "code",
   "execution_count": 86,
   "metadata": {},
   "outputs": [],
   "source": [
    "tf.keras.utils.plot_model?"
   ]
  },
  {
   "cell_type": "code",
   "execution_count": 87,
   "metadata": {},
   "outputs": [
    {
     "data": {
      "image/png": "[encoded data removed]",
      "text/plain": [
       "<IPython.core.display.Image object>"
      ]
     },
     "execution_count": 87,
     "metadata": {},
     "output_type": "execute_result"
    }
   ],
   "source": [
    "tf.keras.utils.plot_model(learner, to_file='learner.png', show_shapes=True)"
   ]
  },
  {
   "cell_type": "markdown",
   "metadata": {
    "id": "D68F3ft43tV-"
   },
   "source": [
    "## Train the learner\n"
   ]
  },
  {
   "cell_type": "code",
   "execution_count": 62,
   "metadata": {},
   "outputs": [],
   "source": [
    "from tensorflow_addons.optimizers import RectifiedAdam"
   ]
  },
  {
   "cell_type": "code",
   "execution_count": 63,
   "metadata": {},
   "outputs": [],
   "source": [
    "es = tf.keras.callbacks.EarlyStopping(\n",
    "    monitor='val-loss', \n",
    "    min_delta=1e-9, \n",
    "    patience=6, \n",
    "    verbose=1, \n",
    "    restore_best_weights=False\n",
    ")"
   ]
  },
  {
   "cell_type": "code",
   "execution_count": 64,
   "metadata": {},
   "outputs": [],
   "source": [
    "learner_sp = f\"experiments/{learner.name}.hdf5\"\n",
    "ms =  tf.keras.callbacks.ModelCheckpoint(filepath=learner_sp, \n",
    "                                            verbose=1, \n",
    "                                            save_best_only=True)"
   ]
  },
  {
   "cell_type": "code",
   "execution_count": 65,
   "metadata": {},
   "outputs": [],
   "source": [
    "from livelossplot import PlotLossesKeras"
   ]
  },
  {
   "cell_type": "code",
   "execution_count": 66,
   "metadata": {
    "id": "-T-a9YhO3tV-"
   },
   "outputs": [],
   "source": [
    "epochs = 10 #int(1e9)\n",
    "loss_fn = tf.losses.binary_crossentropy\n",
    "metrics=[tf.metrics.BinaryAccuracy()]\n",
    "\n",
    "callbacks = [es, ms, PlotLossesKeras()]\n",
    "\n",
    "learner.compile(\n",
    "    optimizer=RectifiedAdam(),\n",
    "    loss=loss_fn,\n",
    "    metrics=metrics\n",
    ")\n",
    "\n"
   ]
  },
  {
   "cell_type": "code",
   "execution_count": 67,
   "metadata": {
    "scrolled": false
   },
   "outputs": [
    {
     "data": {
      "image/png": "[encoded data removed]",
      "text/plain": [
       "<Figure size 864x576 with 2 Axes>"
      ]
     },
     "metadata": {
      "needs_background": "light"
     },
     "output_type": "display_data"
    },
    {
     "name": "stdout",
     "output_type": "stream",
     "text": [
      "binary_accuracy\n",
      "\ttraining         \t (min:    0.464, max:    0.539, cur:    0.539)\n",
      "\tvalidation       \t (min:    0.453, max:    0.517, cur:    0.453)\n",
      "Loss\n",
      "\ttraining         \t (min:    7.032, max:    8.175, cur:    7.032)\n",
      "\tvalidation       \t (min:    7.370, max:    8.345, cur:    8.345)\n",
      "\b\b\b\b\b\b\b\b\b\b\b\b\b\b\b\b\b\b\b\b\b\b\b\b\b\b\b\b\b\b\b\b\b\b\b\b\b\b\b\b\b\b\b\b\b\b\b\b\b\b\b\b\b\b\b\b\b\b\b\b\b\b\b\b\b\b\b\b\b\b\b\b\b\b\b\b\b\b\b\b\b\b\b\b\b\b\b\b\b\r",
      "10/10 [==============================] - 10s 1s/step - loss: 7.0316 - binary_accuracy: 0.5389 - val_loss: 8.3447 - val_binary_accuracy: 0.4528\n"
     ]
    },
    {
     "data": {
      "text/plain": [
       "<tensorflow.python.keras.callbacks.History at 0x291b7eb38e0>"
      ]
     },
     "execution_count": 67,
     "metadata": {},
     "output_type": "execute_result"
    }
   ],
   "source": [
    "learner.fit(\n",
    "    x=train_ds, \n",
    "    epochs=epochs, \n",
    "    steps_per_epoch=10,\n",
    "    callbacks=callbacks, \n",
    "    validation_data=val_ds, \n",
    "    validation_steps=10,\n",
    "    workers=-1,\n",
    "    use_multiprocessing=True,\n",
    "    verbose=1\n",
    ")"
   ]
  },
  {
   "cell_type": "code",
   "execution_count": 71,
   "metadata": {},
   "outputs": [],
   "source": [
    "del learner"
   ]
  },
  {
   "cell_type": "code",
   "execution_count": 291,
   "metadata": {},
   "outputs": [],
   "source": [
    "from sklearn.ensemble import AdaBoostClassifier"
   ]
  },
  {
   "cell_type": "code",
   "execution_count": null,
   "metadata": {},
   "outputs": [],
   "source": [
    "clf = AdaBoostClassifier(n_estimators=100, random_state=0)"
   ]
  },
  {
   "cell_type": "markdown",
   "metadata": {
    "id": "D-1apOpM3tWA"
   },
   "source": [
    "## Evaluate the learner on training, validation and holdout dataset\n",
    "\n",
    "Note that data augmentation and dropout are inactive at inference time.\n"
   ]
  },
  {
   "cell_type": "code",
   "execution_count": 72,
   "metadata": {},
   "outputs": [],
   "source": [
    "learner = tf.keras.models.load_model(filepath=learner_sp, compile=False)"
   ]
  },
  {
   "cell_type": "code",
   "execution_count": 74,
   "metadata": {},
   "outputs": [],
   "source": [
    "from tqdm import tqdm\n",
    "import numpy as np"
   ]
  },
  {
   "cell_type": "code",
   "execution_count": 78,
   "metadata": {},
   "outputs": [],
   "source": [
    "loss_fn = tf.losses.binary_crossentropy"
   ]
  },
  {
   "cell_type": "code",
   "execution_count": 232,
   "metadata": {},
   "outputs": [],
   "source": [
    "eval_epoch=10\n",
    "momory_file = 'memory/learner_tracing.csv'\n",
    "col_names = ['filename', 'learner', 'score']"
   ]
  },
  {
   "cell_type": "code",
   "execution_count": 233,
   "metadata": {},
   "outputs": [],
   "source": [
    "from memory.memory_manager import insert"
   ]
  },
  {
   "cell_type": "code",
   "execution_count": 252,
   "metadata": {},
   "outputs": [],
   "source": [
    "import pandas as pd"
   ]
  },
  {
   "cell_type": "code",
   "execution_count": 270,
   "metadata": {},
   "outputs": [],
   "source": [
    "memory_file = pd.DataFrame(columns=col_names)"
   ]
  },
  {
   "cell_type": "code",
   "execution_count": 271,
   "metadata": {},
   "outputs": [],
   "source": [
    "#insert(filename= filename[0].replace('\\\\', '/'), learner=learner.name, score=loss_value.numpy())"
   ]
  },
  {
   "cell_type": "code",
   "execution_count": 272,
   "metadata": {},
   "outputs": [
    {
     "name": "stderr",
     "output_type": "stream",
     "text": [
      "100%|██████████████████████████████████████████████████████████████████████████████████| 10/10 [00:05<00:00,  1.84it/s]\n"
     ]
    }
   ],
   "source": [
    "for ep in tqdm(range(eval_epoch)):\n",
    "    images, labels, filenames = next(train_generator)\n",
    "    loss_values = loss_fn(labels, learner.predict(images))\n",
    "    for filename, loss_value in zip(filenames.values(), loss_values):\n",
    "        record = {'filename': filename[0].replace('\\\\', '/'), 'learner':learner.name, 'score': loss_value.numpy()}\n",
    "        ix = 0 if pd.isnull(memory_file.index.max()) else memory_file.index.max()\n",
    "        memory_file.loc[ix+1] = record.values()"
   ]
  },
  {
   "cell_type": "code",
   "execution_count": 280,
   "metadata": {},
   "outputs": [
    {
     "data": {
      "text/html": [
       "<div>\n",
       "<style scoped>\n",
       "    .dataframe tbody tr th:only-of-type {\n",
       "        vertical-align: middle;\n",
       "    }\n",
       "\n",
       "    .dataframe tbody tr th {\n",
       "        vertical-align: top;\n",
       "    }\n",
       "\n",
       "    .dataframe thead th {\n",
       "        text-align: right;\n",
       "    }\n",
       "</style>\n",
       "<table border=\"1\" class=\"dataframe\">\n",
       "  <thead>\n",
       "    <tr style=\"text-align: right;\">\n",
       "      <th></th>\n",
       "      <th>filename</th>\n",
       "      <th>learner</th>\n",
       "      <th>score</th>\n",
       "    </tr>\n",
       "  </thead>\n",
       "  <tbody>\n",
       "    <tr>\n",
       "      <th>1</th>\n",
       "      <td>data/PetImages/train/Dog/1765.jpg</td>\n",
       "      <td>learner01</td>\n",
       "      <td>8.518467</td>\n",
       "    </tr>\n",
       "    <tr>\n",
       "      <th>2</th>\n",
       "      <td>data/PetImages/train/Cat/6985.jpg</td>\n",
       "      <td>learner01</td>\n",
       "      <td>8.518467</td>\n",
       "    </tr>\n",
       "    <tr>\n",
       "      <th>3</th>\n",
       "      <td>data/PetImages/train/Cat/252.jpg</td>\n",
       "      <td>learner01</td>\n",
       "      <td>8.518467</td>\n",
       "    </tr>\n",
       "    <tr>\n",
       "      <th>4</th>\n",
       "      <td>data/PetImages/train/Dog/9990.jpg</td>\n",
       "      <td>learner01</td>\n",
       "      <td>8.518467</td>\n",
       "    </tr>\n",
       "    <tr>\n",
       "      <th>5</th>\n",
       "      <td>data/PetImages/train/Cat/1150.jpg</td>\n",
       "      <td>learner01</td>\n",
       "      <td>8.518467</td>\n",
       "    </tr>\n",
       "  </tbody>\n",
       "</table>\n",
       "</div>"
      ],
      "text/plain": [
       "                            filename    learner     score\n",
       "1  data/PetImages/train/Dog/1765.jpg  learner01  8.518467\n",
       "2  data/PetImages/train/Cat/6985.jpg  learner01  8.518467\n",
       "3   data/PetImages/train/Cat/252.jpg  learner01  8.518467\n",
       "4  data/PetImages/train/Dog/9990.jpg  learner01  8.518467\n",
       "5  data/PetImages/train/Cat/1150.jpg  learner01  8.518467"
      ]
     },
     "execution_count": 280,
     "metadata": {},
     "output_type": "execute_result"
    }
   ],
   "source": [
    "memory_file.head()"
   ]
  },
  {
   "cell_type": "code",
   "execution_count": 279,
   "metadata": {},
   "outputs": [],
   "source": [
    "e = '1'\n",
    "memory_file.to_csv(f'memory/learner_tracing{e}.csv', index=False, mode='a')"
   ]
  },
  {
   "cell_type": "code",
   "execution_count": 215,
   "metadata": {},
   "outputs": [],
   "source": [
    "import pandas as pd\n",
    "memory_file = pd.read_csv(filepath_or_buffer=momory_file, names=col_names)"
   ]
  },
  {
   "cell_type": "code",
   "execution_count": 216,
   "metadata": {},
   "outputs": [
    {
     "name": "stdout",
     "output_type": "stream",
     "text": [
      "(36000, 3)\n"
     ]
    }
   ],
   "source": [
    "print(memory_file.shape)"
   ]
  },
  {
   "cell_type": "code",
   "execution_count": 217,
   "metadata": {},
   "outputs": [
    {
     "data": {
      "text/html": [
       "<div>\n",
       "<style scoped>\n",
       "    .dataframe tbody tr th:only-of-type {\n",
       "        vertical-align: middle;\n",
       "    }\n",
       "\n",
       "    .dataframe tbody tr th {\n",
       "        vertical-align: top;\n",
       "    }\n",
       "\n",
       "    .dataframe thead th {\n",
       "        text-align: right;\n",
       "    }\n",
       "</style>\n",
       "<table border=\"1\" class=\"dataframe\">\n",
       "  <thead>\n",
       "    <tr style=\"text-align: right;\">\n",
       "      <th></th>\n",
       "      <th>filename</th>\n",
       "      <th>learner</th>\n",
       "      <th>score</th>\n",
       "    </tr>\n",
       "  </thead>\n",
       "  <tbody>\n",
       "    <tr>\n",
       "      <th>0</th>\n",
       "      <td>data/PetImages/train/Cat/9777.jpg</td>\n",
       "      <td>learner01</td>\n",
       "      <td>9.370313</td>\n",
       "    </tr>\n",
       "    <tr>\n",
       "      <th>1</th>\n",
       "      <td>data/PetImages/train/Dog/606.jpg</td>\n",
       "      <td>learner01</td>\n",
       "      <td>9.370313</td>\n",
       "    </tr>\n",
       "    <tr>\n",
       "      <th>2</th>\n",
       "      <td>data/PetImages/train/Dog/436.jpg</td>\n",
       "      <td>learner01</td>\n",
       "      <td>9.370313</td>\n",
       "    </tr>\n",
       "    <tr>\n",
       "      <th>3</th>\n",
       "      <td>data/PetImages/train/Cat/4515.jpg</td>\n",
       "      <td>learner01</td>\n",
       "      <td>9.370313</td>\n",
       "    </tr>\n",
       "    <tr>\n",
       "      <th>4</th>\n",
       "      <td>data/PetImages/train/Cat/5214.jpg</td>\n",
       "      <td>learner01</td>\n",
       "      <td>9.370313</td>\n",
       "    </tr>\n",
       "  </tbody>\n",
       "</table>\n",
       "</div>"
      ],
      "text/plain": [
       "                            filename    learner     score\n",
       "0  data/PetImages/train/Cat/9777.jpg  learner01  9.370313\n",
       "1   data/PetImages/train/Dog/606.jpg  learner01  9.370313\n",
       "2   data/PetImages/train/Dog/436.jpg  learner01  9.370313\n",
       "3  data/PetImages/train/Cat/4515.jpg  learner01  9.370313\n",
       "4  data/PetImages/train/Cat/5214.jpg  learner01  9.370313"
      ]
     },
     "execution_count": 217,
     "metadata": {},
     "output_type": "execute_result"
    }
   ],
   "source": [
    "memory_file.head()"
   ]
  },
  {
   "cell_type": "code",
   "execution_count": 281,
   "metadata": {
    "scrolled": true
   },
   "outputs": [],
   "source": [
    "files_score = memory_file.groupby(['filename', 'learner'])['score'].mean().to_frame().reset_index()\n"
   ]
  },
  {
   "cell_type": "code",
   "execution_count": 284,
   "metadata": {},
   "outputs": [
    {
     "data": {
      "text/html": [
       "<div>\n",
       "<style scoped>\n",
       "    .dataframe tbody tr th:only-of-type {\n",
       "        vertical-align: middle;\n",
       "    }\n",
       "\n",
       "    .dataframe tbody tr th {\n",
       "        vertical-align: top;\n",
       "    }\n",
       "\n",
       "    .dataframe thead th {\n",
       "        text-align: right;\n",
       "    }\n",
       "</style>\n",
       "<table border=\"1\" class=\"dataframe\">\n",
       "  <thead>\n",
       "    <tr style=\"text-align: right;\">\n",
       "      <th></th>\n",
       "      <th>filename</th>\n",
       "      <th>learner</th>\n",
       "      <th>score</th>\n",
       "    </tr>\n",
       "  </thead>\n",
       "  <tbody>\n",
       "    <tr>\n",
       "      <th>0</th>\n",
       "      <td>data/PetImages/train/Cat/11206.jpg</td>\n",
       "      <td>learner01</td>\n",
       "      <td>8.518467</td>\n",
       "    </tr>\n",
       "  </tbody>\n",
       "</table>\n",
       "</div>"
      ],
      "text/plain": [
       "                             filename    learner     score\n",
       "0  data/PetImages/train/Cat/11206.jpg  learner01  8.518467"
      ]
     },
     "execution_count": 284,
     "metadata": {},
     "output_type": "execute_result"
    }
   ],
   "source": [
    "files_score[files_score['filename'] ==\"data/PetImages/train/Cat/11206.jpg\"]"
   ]
  },
  {
   "cell_type": "code",
   "execution_count": 287,
   "metadata": {
    "scrolled": true
   },
   "outputs": [
    {
     "data": {
      "text/plain": [
       "5.962926387786865"
      ]
     },
     "execution_count": 287,
     "metadata": {},
     "output_type": "execute_result"
    }
   ],
   "source": [
    "files_score['score'].min()"
   ]
  },
  {
   "cell_type": "code",
   "execution_count": null,
   "metadata": {},
   "outputs": [],
   "source": []
  },
  {
   "cell_type": "code",
   "execution_count": 221,
   "metadata": {},
   "outputs": [],
   "source": [
    "def ds2itr(ds):\n",
    "    while True:\n",
    "        try:\n",
    "            for data in ds:\n",
    "                yield data\n",
    "        except StopIteration as e:\n",
    "            pass\n",
    "        "
   ]
  },
  {
   "cell_type": "code",
   "execution_count": null,
   "metadata": {},
   "outputs": [],
   "source": []
  },
  {
   "cell_type": "code",
   "execution_count": 47,
   "metadata": {},
   "outputs": [],
   "source": [
    "def take2(gen):\n",
    "    while True:\n",
    "        batch = next(gen)\n",
    "        yield batch[0], batch[1]"
   ]
  },
  {
   "cell_type": "code",
   "execution_count": null,
   "metadata": {},
   "outputs": [],
   "source": [
    "tf.data.Dataset.from_tensors"
   ]
  },
  {
   "cell_type": "code",
   "execution_count": 58,
   "metadata": {},
   "outputs": [],
   "source": [
    "train_ds = tf.data.Dataset.from_generator(\n",
    "    lambda: take2(train_generator), \n",
    "    output_types= (tf.float32, tf.float32)\n",
    ")\n",
    "\n",
    "val_ds = tf.data.Dataset.from_generator(\n",
    "    lambda: take2(validation_generator), \n",
    "    output_types= (tf.float32, tf.float32)\n",
    ")\n",
    "\n",
    "holdout_ds = tf.data.Dataset.from_generator(\n",
    "    lambda: take2(holdout_generator), \n",
    "    output_types= (tf.float32, tf.float32)\n",
    ")"
   ]
  },
  {
   "cell_type": "code",
   "execution_count": null,
   "metadata": {},
   "outputs": [],
   "source": []
  },
  {
   "cell_type": "code",
   "execution_count": null,
   "metadata": {},
   "outputs": [],
   "source": []
  },
  {
   "cell_type": "code",
   "execution_count": 81,
   "metadata": {},
   "outputs": [
    {
     "name": "stderr",
     "output_type": "stream",
     "text": [
      "100%|██████████████████████████████████████████████████████████████████████████████████| 10/10 [00:04<00:00,  2.10it/s]\n"
     ]
    }
   ],
   "source": [
    "ds = ds2itr(train_ds)\n",
    "train_loss_scores = {}\n",
    "train_loss_score = []\n",
    "for ep in tqdm(range(eval_epoch)):\n",
    "    batch = next(ds)\n",
    "    train_loss_value = loss_fn(batch[1], learner.predict(batch[0]) )\n",
    "    train_loss_score += [train_loss_value]\n",
    "train_loss_scores = {loss_fn.__name__: train_loss_score}   \n",
    "\n",
    "train_loss_scores = {k: {'min': \n",
    "                          tf.math.reduce_min([*val][0], axis=0).numpy(), \n",
    "                          'max':\n",
    "                          tf.math.reduce_max([*val][0], axis=0).numpy(), \n",
    "                          'std': \n",
    "                          tf.math.reduce_std([*val][0], axis=0).numpy(), \n",
    "                          'mean': \n",
    "                          tf.math.reduce_mean([*val][0], axis=0).numpy() } for k, val in train_loss_scores.items()} \n"
   ]
  },
  {
   "cell_type": "code",
   "execution_count": 82,
   "metadata": {},
   "outputs": [
    {
     "name": "stderr",
     "output_type": "stream",
     "text": [
      "100%|██████████████████████████████████████████████████████████████████████████████████| 10/10 [00:04<00:00,  2.16it/s]\n"
     ]
    }
   ],
   "source": [
    "ds = ds2itr(val_ds)\n",
    "val_loss_scores = {}\n",
    "val_loss_score = []\n",
    "for ep in tqdm(range(eval_epoch)):\n",
    "    batch = next(ds)\n",
    "    val_loss_value = loss_fn(batch[1], learner.predict(batch[0]) )\n",
    "    val_loss_score += [val_loss_value]\n",
    "val_loss_scores = {loss_fn.__name__: val_loss_score}   \n",
    "\n",
    "val_loss_scores = {k: {'min': \n",
    "                          tf.math.reduce_min([*val][0], axis=0).numpy(), \n",
    "                          'max':\n",
    "                          tf.math.reduce_max([*val][0], axis=0).numpy(), \n",
    "                          'std': \n",
    "                          tf.math.reduce_std([*val][0], axis=0).numpy(), \n",
    "                          'mean': \n",
    "                          tf.math.reduce_mean([*val][0], axis=0).numpy() } for k, val in val_loss_scores.items()} \n"
   ]
  },
  {
   "cell_type": "code",
   "execution_count": 83,
   "metadata": {},
   "outputs": [
    {
     "name": "stdout",
     "output_type": "stream",
     "text": [
      "train loss {'binary_crossentropy': {'min': 7.2406964, 'max': 7.2406964, 'std': 0.0, 'mean': 7.2406964}}\n",
      "val loss {'binary_crossentropy': {'min': 7.6666193, 'max': 7.6666193, 'std': 0.0, 'mean': 7.6666193}}\n"
     ]
    }
   ],
   "source": [
    "print('train loss', train_loss_scores)\n",
    "print('val loss',val_loss_scores)"
   ]
  },
  {
   "cell_type": "code",
   "execution_count": null,
   "metadata": {},
   "outputs": [],
   "source": []
  },
  {
   "cell_type": "code",
   "execution_count": null,
   "metadata": {},
   "outputs": [],
   "source": []
  },
  {
   "cell_type": "code",
   "execution_count": null,
   "metadata": {},
   "outputs": [],
   "source": []
  },
  {
   "cell_type": "code",
   "execution_count": null,
   "metadata": {},
   "outputs": [],
   "source": []
  },
  {
   "cell_type": "code",
   "execution_count": null,
   "metadata": {
    "scrolled": true
   },
   "outputs": [],
   "source": [
    "decision = lambda x: 1 if x > 0.5 else 0"
   ]
  },
  {
   "cell_type": "code",
   "execution_count": null,
   "metadata": {},
   "outputs": [],
   "source": [
    "ds = ds2itr(train_ds)\n",
    "mertics_score = {}\n",
    "for metric, metric_fn in mertics_dict.items():\n",
    "    train_metric_scores = {}\n",
    "    train_metric_score = []\n",
    "    for ep in tqdm(range(eval_epoch)):\n",
    "        batch = next(ds)\n",
    "        pred = np.array([[decision(p)] for p in learner.predict(batch[0])])\n",
    "        train_metric_value = metric_fn(batch[1], pred)\n",
    "        train_metric_score += [train_metric_value]\n",
    "    train_metric_scores = {metric: train_metric_score}   \n",
    "\n",
    "    train_metric_scores = {k: {'min': \n",
    "                              tf.math.reduce_min([*val], axis=0).numpy(), \n",
    "                              'max':\n",
    "                              tf.math.reduce_max([*val], axis=0).numpy(), \n",
    "                              'std': \n",
    "                              tf.math.reduce_std([*val], axis=0).numpy(), \n",
    "                              'mean': \n",
    "                              tf.math.reduce_mean([*val], axis=0).numpy() } for k, val in train_metric_scores.items()} \n",
    "   \n",
    "    mertics_score.update(train_metric_scores)"
   ]
  },
  {
   "cell_type": "code",
   "execution_count": null,
   "metadata": {},
   "outputs": [],
   "source": [
    "ds = ds2itr(val_ds)\n",
    "mertics_score = {}\n",
    "for metric, metric_fn in mertics_dict.items():\n",
    "    val_metric_scores = {}\n",
    "    val_metric_score = []\n",
    "    for ep in tqdm(range(eval_epoch)):\n",
    "        batch = next(ds)\n",
    "        pred = np.array([[decision(p)] for p in learner.predict(batch[0])])\n",
    "        val_metric_value = metric_fn(batch[1], pred)\n",
    "        val_metric_score += [val_metric_value]\n",
    "    val_metric_scores = {metric: val_metric_score}   \n",
    "\n",
    "    val_metric_scores = {k: {'min': \n",
    "                              tf.math.reduce_min([*val], axis=0).numpy(), \n",
    "                              'max':\n",
    "                              tf.math.reduce_max([*val], axis=0).numpy(), \n",
    "                              'std': \n",
    "                              tf.math.reduce_std([*val], axis=0).numpy(), \n",
    "                              'mean': \n",
    "                              tf.math.reduce_mean([*val], axis=0).numpy() } for k, val in val_metric_scores.items()} \n",
    "   \n",
    "    mertics_score.update(val_metric_scores)"
   ]
  },
  {
   "cell_type": "code",
   "execution_count": null,
   "metadata": {},
   "outputs": [],
   "source": [
    "ds = ds2itr(holdout_ds)\n",
    "mertics_score = {}\n",
    "for metric, metric_fn in mertics_dict.items():\n",
    "    holdout_metric_scores = {}\n",
    "    holdout_metric_score = []\n",
    "    for ep in tqdm(range(eval_epoch)):\n",
    "        batch = next(ds)\n",
    "        pred = np.array([[decision(p)] for p in learner.predict(batch[0])])\n",
    "        holdout_metric_value = metric_fn(batch[1], pred)\n",
    "        holdout_metric_score += [holdout_metric_value]\n",
    "    holdout_metric_scores = {metric: holdout_metric_score}   \n",
    "\n",
    "    holdout_metric_scores = {k: {'min': \n",
    "                              tf.math.reduce_min([*val], axis=0).numpy(), \n",
    "                              'max':\n",
    "                              tf.math.reduce_max([*val], axis=0).numpy(), \n",
    "                              'std': \n",
    "                              tf.math.reduce_std([*val], axis=0).numpy(), \n",
    "                              'mean': \n",
    "                              tf.math.reduce_mean([*val], axis=0).numpy() } for k, val in holdout_metric_scores.items()} \n",
    "   \n",
    "    mertics_score.update(holdout_metric_scores)"
   ]
  },
  {
   "cell_type": "code",
   "execution_count": null,
   "metadata": {},
   "outputs": [],
   "source": [
    "print('train metric', train_metric_scores)\n",
    "print('val metric',val_metric_scores)\n",
    "print('holdout metric', holdout_metric_scores)"
   ]
  },
  {
   "cell_type": "markdown",
   "metadata": {},
   "source": [
    "## Visualize the last layer"
   ]
  },
  {
   "cell_type": "code",
   "execution_count": null,
   "metadata": {},
   "outputs": [],
   "source": [
    "learner = tf.keras.models.load_model(filepath=learner_sp, compile=False)"
   ]
  },
  {
   "cell_type": "code",
   "execution_count": null,
   "metadata": {},
   "outputs": [],
   "source": [
    "learner.summary()"
   ]
  },
  {
   "cell_type": "code",
   "execution_count": null,
   "metadata": {},
   "outputs": [],
   "source": [
    "learner.layers[-3]"
   ]
  },
  {
   "cell_type": "code",
   "execution_count": null,
   "metadata": {},
   "outputs": [],
   "source": [
    "image_size"
   ]
  },
  {
   "cell_type": "code",
   "execution_count": null,
   "metadata": {},
   "outputs": [],
   "source": [
    "x = tf.keras.layers.Reshape(image_size)(learner.layers[-3].output)"
   ]
  },
  {
   "cell_type": "code",
   "execution_count": null,
   "metadata": {},
   "outputs": [],
   "source": [
    "model2 = tf.keras.Model(inputs=learner.inputs, outputs=[x])\n",
    "model2.summary()"
   ]
  },
  {
   "cell_type": "code",
   "execution_count": null,
   "metadata": {},
   "outputs": [],
   "source": [
    "ds = ds2itr(val_ds)"
   ]
  },
  {
   "cell_type": "code",
   "execution_count": null,
   "metadata": {},
   "outputs": [],
   "source": [
    "import matplotlib.pyplot as plt\n",
    "from PIL import Image"
   ]
  },
  {
   "cell_type": "code",
   "execution_count": null,
   "metadata": {},
   "outputs": [],
   "source": [
    "images = next(ds)[0]"
   ]
  },
  {
   "cell_type": "code",
   "execution_count": null,
   "metadata": {},
   "outputs": [],
   "source": [
    "images.shape"
   ]
  },
  {
   "cell_type": "code",
   "execution_count": null,
   "metadata": {},
   "outputs": [],
   "source": [
    "Image.fromarray((images[0].numpy()* 255.0).astype(np.uint8), mode='RGB')"
   ]
  },
  {
   "cell_type": "code",
   "execution_count": null,
   "metadata": {},
   "outputs": [],
   "source": [
    "predictions = model2.predict(images)"
   ]
  },
  {
   "cell_type": "code",
   "execution_count": null,
   "metadata": {},
   "outputs": [],
   "source": [
    "Image.fromarray((predictions[0] * 255.0).astype(np.uint8), mode='RGB')"
   ]
  },
  {
   "cell_type": "code",
   "execution_count": null,
   "metadata": {},
   "outputs": [],
   "source": [
    "from utils.reporting.ploting import plot_and_save_generated"
   ]
  },
  {
   "cell_type": "code",
   "execution_count": null,
   "metadata": {},
   "outputs": [],
   "source": [
    "plot_and_save_generated(images.numpy(), epoch=999, path='.', gray=False, save=False)"
   ]
  },
  {
   "cell_type": "code",
   "execution_count": null,
   "metadata": {},
   "outputs": [],
   "source": [
    "plot_and_save_generated( [Image.fromarray((img * 255.0).astype(np.uint8), mode='RGB') for img in predictions], epoch=999, path='.', gray=False, save=False)"
   ]
  },
  {
   "cell_type": "code",
   "execution_count": null,
   "metadata": {},
   "outputs": [],
   "source": []
  }
 ],
 "metadata": {
  "colab": {
   "collapsed_sections": [],
   "name": "image_classification_from_scratch",
   "provenance": [],
   "toc_visible": true
  },
  "kernelspec": {
   "display_name": "Python 3",
   "language": "python",
   "name": "python3"
  },
  "language_info": {
   "codemirror_mode": {
    "name": "ipython",
    "version": 3
   },
   "file_extension": ".py",
   "mimetype": "text/x-python",
   "name": "python",
   "nbconvert_exporter": "python",
   "pygments_lexer": "ipython3",
   "version": "3.8.5"
  }
 },
 "nbformat": 4,
 "nbformat_minor": 1
}
