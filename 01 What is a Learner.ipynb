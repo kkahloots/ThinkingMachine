{
 "cells": [
  {
   "cell_type": "code",
   "execution_count": 1,
   "metadata": {},
   "outputs": [],
   "source": [
    "%load_ext autoreload\n",
    "%autoreload 2"
   ]
  },
  {
   "cell_type": "markdown",
   "metadata": {
    "id": "abZ7bOgX3tVh"
   },
   "source": [
    "# Building and Training a Learner\n",
    "\n",
    "**Author:** [kkahloots](https://www.linkedin.com/in/kkahloots/)<br>\n",
    "**Date created:** 2020/11/07<br>\n",
    "**Last modified:** 2020/11/07<br>\n",
    "**Description:** Performing learning as tasks by multiple learners."
   ]
  },
  {
   "cell_type": "markdown",
   "metadata": {
    "id": "Vbleiv5e3tVh"
   },
   "source": [
    "## Introduction\n",
    "\n",
    "This example shows how to do image classification from scratch, starting from JPEG\n",
    "image files on disk, without leveraging pre-trained weights or a pre-made Keras\n",
    "Application model. We demonstrate the workflow on the Kaggle Cats vs Dogs binary\n",
    " classification dataset.\n",
    "\n",
    "We use the `image_dataset_from_directory` utility to generate the datasets, and\n",
    "we use Keras image preprocessing layers for image standardization and data augmentation.\n"
   ]
  },
  {
   "cell_type": "markdown",
   "metadata": {
    "id": "JPe3NAfa3tVi"
   },
   "source": [
    "## Setup\n"
   ]
  },
  {
   "cell_type": "code",
   "execution_count": 2,
   "metadata": {
    "id": "Cy1Mc1Mf3tVi"
   },
   "outputs": [
    {
     "name": "stdout",
     "output_type": "stream",
     "text": [
      "2.3.1\n"
     ]
    }
   ],
   "source": [
    "import tensorflow as tf\n",
    "print(tf.__version__)"
   ]
  },
  {
   "cell_type": "markdown",
   "metadata": {
    "id": "FVGVWKY-3tVu"
   },
   "source": [
    "## Generate a `Dataset`\n"
   ]
  },
  {
   "cell_type": "code",
   "execution_count": 3,
   "metadata": {},
   "outputs": [],
   "source": [
    "image_size = (180, 180, 3)\n",
    "batch_size = 36\n",
    "validation_percentage=0.3\n",
    "valid_format = 'jpg'\n",
    "image_dir = \"data/PetImages/train\"\n",
    "holdout_dir = 'data/PetImages/holdout'"
   ]
  },
  {
   "cell_type": "code",
   "execution_count": 4,
   "metadata": {},
   "outputs": [],
   "source": [
    "from generators.from_images.file_image_generator import make_image_lists, get_generators"
   ]
  },
  {
   "cell_type": "code",
   "execution_count": 5,
   "metadata": {},
   "outputs": [
    {
     "name": "stderr",
     "output_type": "stream",
     "text": [
      "  \u001b[37mDEBUG   \u001b[0m | \u001b[37mLooking for images in 'Cat'\u001b[0m\n",
      "  \u001b[32mINFO    \u001b[0m | \u001b[32m10573 file found\u001b[0m\n",
      "  \u001b[37mDEBUG   \u001b[0m | \u001b[37mLooking for images in 'Dog'\u001b[0m\n",
      "  \u001b[32mINFO    \u001b[0m | \u001b[32m10506 file found\u001b[0m\n"
     ]
    },
    {
     "name": "stdout",
     "output_type": "stream",
     "text": [
      "\n",
      "\n",
      "\n",
      "\n"
     ]
    }
   ],
   "source": [
    "imgs_list = make_image_lists(\n",
    "    image_dir=image_dir, \n",
    "    validation_pct=validation_percentage, \n",
    "    valid_imgae_formats=valid_format\n",
    ")"
   ]
  },
  {
   "cell_type": "code",
   "execution_count": 6,
   "metadata": {},
   "outputs": [
    {
     "name": "stderr",
     "output_type": "stream",
     "text": [
      "  \u001b[37mDEBUG   \u001b[0m | \u001b[37mLooking for images in 'Cat'\u001b[0m\n",
      "  \u001b[32mINFO    \u001b[0m | \u001b[32m1175 file found\u001b[0m\n",
      "  \u001b[37mDEBUG   \u001b[0m | \u001b[37mLooking for images in 'Dog'\u001b[0m\n",
      "  \u001b[32mINFO    \u001b[0m | \u001b[32m1168 file found\u001b[0m\n"
     ]
    },
    {
     "name": "stdout",
     "output_type": "stream",
     "text": [
      "\n",
      "\n",
      "\n",
      "\n"
     ]
    }
   ],
   "source": [
    "holdout_list = make_image_lists(\n",
    "    image_dir=holdout_dir, \n",
    "    validation_pct=0.0, \n",
    "    valid_imgae_formats=valid_format\n",
    ")"
   ]
  },
  {
   "cell_type": "code",
   "execution_count": 7,
   "metadata": {},
   "outputs": [
    {
     "name": "stdout",
     "output_type": "stream",
     "text": [
      "\n"
     ]
    },
    {
     "name": "stderr",
     "output_type": "stream",
     "text": [
      "  \u001b[32mINFO    \u001b[0m | \u001b[32mFound 21009 training files\u001b[0m\n",
      "  \u001b[32mINFO    \u001b[0m | \u001b[32mFound 70 validation files\u001b[0m\n",
      "  \u001b[32mINFO    \u001b[0m | \u001b[32mFound 2343 training files\u001b[0m\n"
     ]
    },
    {
     "name": "stdout",
     "output_type": "stream",
     "text": [
      "\n",
      "\n"
     ]
    }
   ],
   "source": [
    "train_generator, validation_generator, holdout_generator = get_generators(\n",
    "                                                                            images_list=imgs_list, \n",
    "                                                                            image_dir=image_dir,\n",
    "                                                                            holdout_dir=holdout_dir,\n",
    "                                                                            holdout_list=holdout_list,\n",
    "                                                                            image_size=image_size, \n",
    "                                                                            batch_size=batch_size, \n",
    "                                                                            class_mode='binary',\n",
    "                                                                            rotation_range=40,\n",
    "                                                                            width_shift_range=0.2,\n",
    "                                                                            height_shift_range=0.2,\n",
    "                                                                            shear_range=0.2,\n",
    "                                                                            zoom_range=0.2,\n",
    "                                                                            horizontal_flip=True,\n",
    "                                                                            fill_mode='nearest'\n",
    "                                                                    )"
   ]
  },
  {
   "cell_type": "code",
   "execution_count": 8,
   "metadata": {},
   "outputs": [],
   "source": [
    "train_ds = tf.data.Dataset.from_generator(\n",
    "    lambda: train_generator, \n",
    "    output_types= (tf.float32, tf.float32)\n",
    ")\n",
    "\n",
    "val_ds = tf.data.Dataset.from_generator(\n",
    "    lambda: validation_generator, \n",
    "    output_types= (tf.float32, tf.float32)\n",
    ")\n",
    "\n",
    "holdout_ds = tf.data.Dataset.from_generator(\n",
    "    lambda: holdout_generator, \n",
    "    output_types= (tf.float32, tf.float32)\n",
    ")"
   ]
  },
  {
   "cell_type": "code",
   "execution_count": 9,
   "metadata": {
    "id": "5vGPKUix3tVu"
   },
   "outputs": [],
   "source": [
    "# from dataset_generating import prepare_generators\n",
    "# train_ds, val_ds, holdout_ds = prepare_generators(image_dir=image_dir, \n",
    "#                                                  batch_size=batch_size, \n",
    "#                                                  image_size=image_size,\n",
    "#                                                  holdout_dir=holdout_dir)"
   ]
  },
  {
   "cell_type": "markdown",
   "metadata": {
    "id": "9eIZ3VWA3tV7"
   },
   "source": [
    "## Build a model\n",
    "\n",
    "We'll build a small version of the Xception network. We haven't particularly tried to\n",
    "optimize the architecture; if you want to do a systematic search for the best model\n",
    " configuration, consider using\n",
    "[Keras Tuner](https://github.com/keras-team/keras-tuner).\n",
    "\n",
    "Note that:\n",
    "\n",
    "- We start the model with the `data_augmentation` preprocessor, followed by a\n",
    " `Rescaling` layer.\n",
    "- We include a `Dropout` layer before the final classification layer.\n"
   ]
  },
  {
   "cell_type": "code",
   "execution_count": 10,
   "metadata": {},
   "outputs": [],
   "source": [
    "from builder.learner_building import make_learner"
   ]
  },
  {
   "cell_type": "code",
   "execution_count": 11,
   "metadata": {},
   "outputs": [
    {
     "name": "stdout",
     "output_type": "stream",
     "text": [
      "Model: \"example_learner\"\n",
      "_________________________________________________________________\n",
      "Layer (type)                 Output Shape              Param #   \n",
      "=================================================================\n",
      "input_1 (InputLayer)         [(None, 180, 180, 3)]     0         \n",
      "_________________________________________________________________\n",
      "dense (Dense)                (None, 180, 180, 100)     400       \n",
      "_________________________________________________________________\n",
      "dense_1 (Dense)              (None, 180, 180, 100)     10100     \n",
      "_________________________________________________________________\n",
      "dense_2 (Dense)              (None, 180, 180, 100)     10100     \n",
      "_________________________________________________________________\n",
      "dense_3 (Dense)              (None, 180, 180, 3)       303       \n",
      "_________________________________________________________________\n",
      "flatten (Flatten)            (None, 97200)             0         \n",
      "_________________________________________________________________\n",
      "dense_4 (Dense)              (None, 1)                 97201     \n",
      "=================================================================\n",
      "Total params: 118,104\n",
      "Trainable params: 118,104\n",
      "Non-trainable params: 0\n",
      "_________________________________________________________________\n",
      "None\n"
     ]
    }
   ],
   "source": [
    "learner = make_learner(model_name='example_learner', input_shape=image_size, num_classes=2)"
   ]
  },
  {
   "cell_type": "code",
   "execution_count": 12,
   "metadata": {},
   "outputs": [
    {
     "data": {
      "image/png": "[encoded data removed]",
      "text/plain": [
       "<IPython.core.display.Image object>"
      ]
     },
     "execution_count": 12,
     "metadata": {},
     "output_type": "execute_result"
    }
   ],
   "source": [
    "tf.keras.utils.plot_model(learner, show_shapes=True)"
   ]
  },
  {
   "cell_type": "markdown",
   "metadata": {
    "id": "D68F3ft43tV-"
   },
   "source": [
    "## Train the learner\n"
   ]
  },
  {
   "cell_type": "code",
   "execution_count": 13,
   "metadata": {},
   "outputs": [],
   "source": [
    "from tensorflow_addons.optimizers import RectifiedAdam"
   ]
  },
  {
   "cell_type": "code",
   "execution_count": 14,
   "metadata": {},
   "outputs": [],
   "source": [
    "es = tf.keras.callbacks.EarlyStopping(\n",
    "    monitor='val-loss', \n",
    "    min_delta=1e-9, \n",
    "    patience=6, \n",
    "    verbose=1, \n",
    "    restore_best_weights=False\n",
    ")"
   ]
  },
  {
   "cell_type": "code",
   "execution_count": 15,
   "metadata": {},
   "outputs": [],
   "source": [
    "learner_sp = f\"experiments/{learner.name}.hdf5\"\n",
    "ms =  tf.keras.callbacks.ModelCheckpoint(filepath=learner_sp, \n",
    "                                            verbose=1, \n",
    "                                            save_best_only=True)"
   ]
  },
  {
   "cell_type": "code",
   "execution_count": 16,
   "metadata": {},
   "outputs": [],
   "source": [
    "from livelossplot import PlotLossesKeras"
   ]
  },
  {
   "cell_type": "code",
   "execution_count": 17,
   "metadata": {
    "id": "-T-a9YhO3tV-"
   },
   "outputs": [],
   "source": [
    "epochs = int(1e9)\n",
    "loss_fn = tf.losses.binary_crossentropy\n",
    "metrics=[tf.metrics.BinaryAccuracy()]\n",
    "\n",
    "callbacks = [es, ms, PlotLossesKeras()]\n",
    "\n",
    "learner.compile(\n",
    "    optimizer=RectifiedAdam(),\n",
    "    loss=loss_fn,\n",
    "    metrics=metrics\n",
    ")\n",
    "\n"
   ]
  },
  {
   "cell_type": "code",
   "execution_count": null,
   "metadata": {
    "scrolled": false
   },
   "outputs": [
    {
     "data": {
      "image/png": "[encoded data removed]",
      "text/plain": [
       "<Figure size 864x576 with 2 Axes>"
      ]
     },
     "metadata": {
      "needs_background": "light"
     },
     "output_type": "display_data"
    },
    {
     "name": "stdout",
     "output_type": "stream",
     "text": [
      "binary_accuracy\n",
      "\ttraining         \t (min:    0.517, max:    0.551, cur:    0.551)\n",
      "\tvalidation       \t (min:    0.478, max:    0.581, cur:    0.581)\n",
      "Loss\n",
      "\ttraining         \t (min:    0.685, max:    0.701, cur:    0.685)\n",
      "\tvalidation       \t (min:    0.695, max:    0.700, cur:    0.695)\n",
      "100/100 [==============================] - 70s 703ms/step - loss: 0.6851 - binary_accuracy: 0.5508 - val_loss: 0.6948 - val_binary_accuracy: 0.5806\n",
      "Epoch 3/1000000000\n",
      " 49/100 [=============>................] - ETA: 33s - loss: 0.6906 - binary_accuracy: 0.5408"
     ]
    }
   ],
   "source": [
    "learner.fit(\n",
    "    x=train_ds, \n",
    "    epochs=epochs, \n",
    "    steps_per_epoch=100,\n",
    "    callbacks=callbacks, \n",
    "    validation_data=val_ds, \n",
    "    validation_steps=10,\n",
    "    workers=-1,\n",
    "    use_multiprocessing=True,\n",
    "    verbose=1\n",
    ")"
   ]
  },
  {
   "cell_type": "code",
   "execution_count": null,
   "metadata": {},
   "outputs": [],
   "source": [
    "del learner"
   ]
  },
  {
   "cell_type": "markdown",
   "metadata": {
    "id": "D-1apOpM3tWA"
   },
   "source": [
    "## Evaluate the learner on training, validation and holdout dataset\n",
    "\n",
    "Note that data augmentation and dropout are inactive at inference time.\n"
   ]
  },
  {
   "cell_type": "code",
   "execution_count": null,
   "metadata": {},
   "outputs": [],
   "source": [
    "learner = tf.keras.models.load_model(filepath=learner_sp, compile=False)"
   ]
  },
  {
   "cell_type": "code",
   "execution_count": null,
   "metadata": {},
   "outputs": [],
   "source": [
    "from tqdm import tqdm\n",
    "import numpy as np"
   ]
  },
  {
   "cell_type": "code",
   "execution_count": null,
   "metadata": {},
   "outputs": [],
   "source": [
    "loss_fn = tf.losses.binary_crossentropy\n",
    "metrics=[tf.metrics.Accuracy()]\n",
    "\n",
    "callbacks = [es, ms, PlotLossesKeras()]"
   ]
  },
  {
   "cell_type": "code",
   "execution_count": null,
   "metadata": {},
   "outputs": [],
   "source": [
    "mertics_dict = dict(zip(list(map(lambda m: str(m.__class__.__name__), metrics)), metrics))"
   ]
  },
  {
   "cell_type": "code",
   "execution_count": null,
   "metadata": {},
   "outputs": [],
   "source": [
    "eval_epoch=100"
   ]
  },
  {
   "cell_type": "code",
   "execution_count": null,
   "metadata": {},
   "outputs": [],
   "source": [
    "def ds2itr(ds):\n",
    "    while True:\n",
    "        try:\n",
    "            for data in ds:\n",
    "                yield data\n",
    "        except StopIteration as e:\n",
    "            pass\n",
    "        "
   ]
  },
  {
   "cell_type": "code",
   "execution_count": null,
   "metadata": {},
   "outputs": [],
   "source": [
    "ds = ds2itr(train_ds)\n",
    "train_loss_scores = {}\n",
    "train_loss_score = []\n",
    "for ep in tqdm(range(eval_epoch)):\n",
    "    batch = next(ds)\n",
    "    train_loss_value = loss_fn(batch[1], learner.predict(batch[0]) )\n",
    "    train_loss_score += [train_loss_value]\n",
    "train_loss_scores = {loss_fn.__name__: train_loss_score}   \n",
    "\n",
    "train_loss_scores = {k: {'min': \n",
    "                          tf.math.reduce_min([*val][0], axis=0).numpy(), \n",
    "                          'max':\n",
    "                          tf.math.reduce_max([*val][0], axis=0).numpy(), \n",
    "                          'std': \n",
    "                          tf.math.reduce_std([*val][0], axis=0).numpy(), \n",
    "                          'mean': \n",
    "                          tf.math.reduce_mean([*val][0], axis=0).numpy() } for k, val in train_loss_scores.items()} \n"
   ]
  },
  {
   "cell_type": "code",
   "execution_count": null,
   "metadata": {},
   "outputs": [],
   "source": [
    "ds = ds2itr(val_ds)\n",
    "val_loss_scores = {}\n",
    "val_loss_score = []\n",
    "for ep in tqdm(range(eval_epoch)):\n",
    "    batch = next(ds)\n",
    "    val_loss_value = loss_fn(batch[1], learner.predict(batch[0]) )\n",
    "    val_loss_score += [val_loss_value]\n",
    "val_loss_scores = {loss_fn.__name__: val_loss_score}   \n",
    "\n",
    "val_loss_scores = {k: {'min': \n",
    "                          tf.math.reduce_min([*val][0], axis=0).numpy(), \n",
    "                          'max':\n",
    "                          tf.math.reduce_max([*val][0], axis=0).numpy(), \n",
    "                          'std': \n",
    "                          tf.math.reduce_std([*val][0], axis=0).numpy(), \n",
    "                          'mean': \n",
    "                          tf.math.reduce_mean([*val][0], axis=0).numpy() } for k, val in val_loss_scores.items()} \n"
   ]
  },
  {
   "cell_type": "code",
   "execution_count": null,
   "metadata": {},
   "outputs": [],
   "source": [
    "ds = ds2itr(holdout_ds)\n",
    "holdout_loss_scores = {}\n",
    "holdout_loss_score = []\n",
    "for ep in tqdm(range(eval_epoch)):\n",
    "    batch = next(ds)\n",
    "    holdout_loss_value = loss_fn(batch[1], learner.predict(batch[0]) )\n",
    "    holdout_loss_score += [holdout_loss_value]\n",
    "holdout_loss_scores = {loss_fn.__name__: holdout_loss_score}   \n",
    "\n",
    "holdout_loss_scores = {k: {'min': \n",
    "                          tf.math.reduce_min([*val][0], axis=0).numpy(), \n",
    "                          'max':\n",
    "                          tf.math.reduce_max([*val][0], axis=0).numpy(), \n",
    "                          'std': \n",
    "                          tf.math.reduce_std([*val][0], axis=0).numpy(), \n",
    "                          'mean': \n",
    "                          tf.math.reduce_mean([*val][0], axis=0).numpy() } for k, val in holdout_loss_scores.items()} \n"
   ]
  },
  {
   "cell_type": "code",
   "execution_count": null,
   "metadata": {},
   "outputs": [],
   "source": [
    "print('train loss', train_loss_scores)\n",
    "print('val loss',val_loss_scores)\n",
    "print('holdout loss', holdout_loss_scores)"
   ]
  },
  {
   "cell_type": "code",
   "execution_count": null,
   "metadata": {
    "scrolled": true
   },
   "outputs": [],
   "source": [
    "decision = lambda x: 1 if x > 0.5 else 0"
   ]
  },
  {
   "cell_type": "code",
   "execution_count": null,
   "metadata": {},
   "outputs": [],
   "source": [
    "ds = ds2itr(train_ds)\n",
    "mertics_score = {}\n",
    "for metric, metric_fn in mertics_dict.items():\n",
    "    train_metric_scores = {}\n",
    "    train_metric_score = []\n",
    "    for ep in tqdm(range(eval_epoch)):\n",
    "        batch = next(ds)\n",
    "        pred = np.array([[decision(p)] for p in learner.predict(batch[0])])\n",
    "        train_metric_value = metric_fn(batch[1], pred)\n",
    "        train_metric_score += [train_metric_value]\n",
    "    train_metric_scores = {metric: train_metric_score}   \n",
    "\n",
    "    train_metric_scores = {k: {'min': \n",
    "                              tf.math.reduce_min([*val], axis=0).numpy(), \n",
    "                              'max':\n",
    "                              tf.math.reduce_max([*val], axis=0).numpy(), \n",
    "                              'std': \n",
    "                              tf.math.reduce_std([*val], axis=0).numpy(), \n",
    "                              'mean': \n",
    "                              tf.math.reduce_mean([*val], axis=0).numpy() } for k, val in train_metric_scores.items()} \n",
    "   \n",
    "    mertics_score.update(train_metric_scores)"
   ]
  },
  {
   "cell_type": "code",
   "execution_count": null,
   "metadata": {},
   "outputs": [],
   "source": [
    "ds = ds2itr(val_ds)\n",
    "mertics_score = {}\n",
    "for metric, metric_fn in mertics_dict.items():\n",
    "    val_metric_scores = {}\n",
    "    val_metric_score = []\n",
    "    for ep in tqdm(range(eval_epoch)):\n",
    "        batch = next(ds)\n",
    "        pred = np.array([[decision(p)] for p in learner.predict(batch[0])])\n",
    "        val_metric_value = metric_fn(batch[1], pred)\n",
    "        val_metric_score += [val_metric_value]\n",
    "    val_metric_scores = {metric: val_metric_score}   \n",
    "\n",
    "    val_metric_scores = {k: {'min': \n",
    "                              tf.math.reduce_min([*val], axis=0).numpy(), \n",
    "                              'max':\n",
    "                              tf.math.reduce_max([*val], axis=0).numpy(), \n",
    "                              'std': \n",
    "                              tf.math.reduce_std([*val], axis=0).numpy(), \n",
    "                              'mean': \n",
    "                              tf.math.reduce_mean([*val], axis=0).numpy() } for k, val in val_metric_scores.items()} \n",
    "   \n",
    "    mertics_score.update(val_metric_scores)"
   ]
  },
  {
   "cell_type": "code",
   "execution_count": null,
   "metadata": {},
   "outputs": [],
   "source": [
    "ds = ds2itr(holdout_ds)\n",
    "mertics_score = {}\n",
    "for metric, metric_fn in mertics_dict.items():\n",
    "    holdout_metric_scores = {}\n",
    "    holdout_metric_score = []\n",
    "    for ep in tqdm(range(eval_epoch)):\n",
    "        batch = next(ds)\n",
    "        pred = np.array([[decision(p)] for p in learner.predict(batch[0])])\n",
    "        holdout_metric_value = metric_fn(batch[1], pred)\n",
    "        holdout_metric_score += [holdout_metric_value]\n",
    "    holdout_metric_scores = {metric: holdout_metric_score}   \n",
    "\n",
    "    holdout_metric_scores = {k: {'min': \n",
    "                              tf.math.reduce_min([*val], axis=0).numpy(), \n",
    "                              'max':\n",
    "                              tf.math.reduce_max([*val], axis=0).numpy(), \n",
    "                              'std': \n",
    "                              tf.math.reduce_std([*val], axis=0).numpy(), \n",
    "                              'mean': \n",
    "                              tf.math.reduce_mean([*val], axis=0).numpy() } for k, val in holdout_metric_scores.items()} \n",
    "   \n",
    "    mertics_score.update(holdout_metric_scores)"
   ]
  },
  {
   "cell_type": "code",
   "execution_count": null,
   "metadata": {},
   "outputs": [],
   "source": [
    "print('train metric', train_metric_scores)\n",
    "print('val metric',val_metric_scores)\n",
    "print('holdout metric', holdout_metric_scores)"
   ]
  },
  {
   "cell_type": "markdown",
   "metadata": {},
   "source": [
    "## Visualize the last layer"
   ]
  },
  {
   "cell_type": "code",
   "execution_count": null,
   "metadata": {},
   "outputs": [],
   "source": [
    "learner = tf.keras.models.load_model(filepath=learner_sp, compile=False)"
   ]
  },
  {
   "cell_type": "code",
   "execution_count": null,
   "metadata": {},
   "outputs": [],
   "source": [
    "learner.summary()"
   ]
  },
  {
   "cell_type": "code",
   "execution_count": null,
   "metadata": {},
   "outputs": [],
   "source": [
    "learner.layers[-3]"
   ]
  },
  {
   "cell_type": "code",
   "execution_count": null,
   "metadata": {},
   "outputs": [],
   "source": [
    "image_size"
   ]
  },
  {
   "cell_type": "code",
   "execution_count": null,
   "metadata": {},
   "outputs": [],
   "source": [
    "x = tf.keras.layers.Reshape(image_size)(learner.layers[-3].output)"
   ]
  },
  {
   "cell_type": "code",
   "execution_count": null,
   "metadata": {},
   "outputs": [],
   "source": [
    "model2 = tf.keras.Model(inputs=learner.inputs, outputs=[x])\n",
    "model2.summary()"
   ]
  },
  {
   "cell_type": "code",
   "execution_count": null,
   "metadata": {},
   "outputs": [],
   "source": [
    "ds = ds2itr(val_ds)"
   ]
  },
  {
   "cell_type": "code",
   "execution_count": null,
   "metadata": {},
   "outputs": [],
   "source": [
    "import matplotlib.pyplot as plt\n",
    "from PIL import Image"
   ]
  },
  {
   "cell_type": "code",
   "execution_count": null,
   "metadata": {},
   "outputs": [],
   "source": [
    "images = next(ds)[0]"
   ]
  },
  {
   "cell_type": "code",
   "execution_count": null,
   "metadata": {},
   "outputs": [],
   "source": [
    "images.shape"
   ]
  },
  {
   "cell_type": "code",
   "execution_count": null,
   "metadata": {},
   "outputs": [],
   "source": [
    "Image.fromarray((images[0].numpy()* 255.0).astype(np.uint8), mode='RGB')"
   ]
  },
  {
   "cell_type": "code",
   "execution_count": null,
   "metadata": {},
   "outputs": [],
   "source": [
    "predictions = model2.predict(images)"
   ]
  },
  {
   "cell_type": "code",
   "execution_count": null,
   "metadata": {},
   "outputs": [],
   "source": [
    "Image.fromarray((predictions[0] * 255.0).astype(np.uint8), mode='RGB')"
   ]
  },
  {
   "cell_type": "code",
   "execution_count": null,
   "metadata": {},
   "outputs": [],
   "source": [
    "from utils.reporting.ploting import plot_and_save_generated"
   ]
  },
  {
   "cell_type": "code",
   "execution_count": null,
   "metadata": {},
   "outputs": [],
   "source": [
    "plot_and_save_generated(images.numpy(), epoch=999, path='.', gray=False, save=False)"
   ]
  },
  {
   "cell_type": "code",
   "execution_count": null,
   "metadata": {},
   "outputs": [],
   "source": [
    "plot_and_save_generated( [Image.fromarray((img * 255.0).astype(np.uint8), mode='RGB') for img in predictions], epoch=999, path='.', gray=False, save=False)"
   ]
  },
  {
   "cell_type": "code",
   "execution_count": null,
   "metadata": {},
   "outputs": [],
   "source": []
  }
 ],
 "metadata": {
  "colab": {
   "collapsed_sections": [],
   "name": "image_classification_from_scratch",
   "provenance": [],
   "toc_visible": true
  },
  "kernelspec": {
   "display_name": "Python 3",
   "language": "python",
   "name": "python3"
  },
  "language_info": {
   "codemirror_mode": {
    "name": "ipython",
    "version": 3
   },
   "file_extension": ".py",
   "mimetype": "text/x-python",
   "name": "python",
   "nbconvert_exporter": "python",
   "pygments_lexer": "ipython3",
   "version": "3.8.5"
  }
 },
 "nbformat": 4,
 "nbformat_minor": 1
}
